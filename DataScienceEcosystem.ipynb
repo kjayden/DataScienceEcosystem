{
 "cells": [
  {
   "cell_type": "markdown",
   "id": "23d6681b-e5ce-4b8c-b688-8ddde937856c",
   "metadata": {},
   "source": [
    "# Data Science Tools and Ecosystem"
   ]
  },
  {
   "cell_type": "markdown",
   "id": "7e345050-8fcf-4a4f-904e-3bed418128ae",
   "metadata": {},
   "source": [
    "### In this notebook, Data Science Tools and Ecosystem are summarized."
   ]
  },
  {
   "cell_type": "markdown",
   "id": "cf8feb57-a8e9-4665-9eee-c7e2c668058f",
   "metadata": {},
   "source": [
    "### Some of the popular languages that Data Scientists use are:"
   ]
  },
  {
   "cell_type": "markdown",
   "id": "a697c4bb-ad73-479b-b4cd-360d5ba3d52b",
   "metadata": {},
   "source": [
    "1. Python\n",
    "2. Scala\n",
    "3. Julia\n",
    "4. R\n",
    "5. Hadoop"
   ]
  },
  {
   "cell_type": "markdown",
   "id": "fdee9f77-1201-478f-ac13-2f5f1255b2a1",
   "metadata": {},
   "source": [
    "### Some of the commonly used libraries used by Data Scientists include:"
   ]
  },
  {
   "cell_type": "markdown",
   "id": "d9d588f1-744d-4787-9bf5-289f62bdffd4",
   "metadata": {
    "tags": []
   },
   "source": [
    "1. Pandas\n",
    "2. Matplotlib\n",
    "3. Pyspark\n",
    "4. numpy\n",
    "5. Scikitlearn\n",
    "6. Tensorflow\n",
    "7. Keras"
   ]
  },
  {
   "cell_type": "markdown",
   "id": "6dd75b65-d1a2-4452-bd28-f2f9ebf859a5",
   "metadata": {},
   "source": [
    "|Data Science Tool|\n",
    "|----|\n",
    "| Jupyter Lab|\n",
    "| Apache Zeppelin|\n",
    "| Spyder |"
   ]
  },
  {
   "cell_type": "markdown",
   "id": "129de1df-8d9d-4c03-b3c8-482b4ccaf9ab",
   "metadata": {},
   "source": [
    "### Below are a few examples of evaluating arithmetic expressions in Python."
   ]
  },
  {
   "cell_type": "code",
   "execution_count": 2,
   "id": "55857852-c2f6-4d0b-9d63-60d8c28c2f8c",
   "metadata": {
    "tags": []
   },
   "outputs": [
    {
     "data": {
      "text/plain": [
       "17"
      ]
     },
     "execution_count": 2,
     "metadata": {},
     "output_type": "execute_result"
    }
   ],
   "source": [
    "#This a simple arithmetic expression to mutiply then add integers\n",
    "(3*4)+5"
   ]
  },
  {
   "cell_type": "code",
   "execution_count": 3,
   "id": "b5a072da-0297-4830-93a8-2fde5b9a9719",
   "metadata": {
    "tags": []
   },
   "outputs": [
    {
     "data": {
      "text/plain": [
       "3.3333333333333335"
      ]
     },
     "execution_count": 3,
     "metadata": {},
     "output_type": "execute_result"
    }
   ],
   "source": [
    "#This will convert 200 minutes to hours by diving by 60\n",
    "\n",
    "200/60"
   ]
  },
  {
   "cell_type": "markdown",
   "id": "753ca782-1e93-486a-92f1-ae68c31c8e2c",
   "metadata": {},
   "source": [
    "**Objectives:**\n",
    "\n",
    "**Data Science categories**\n",
    "\n",
    "The following give a detailed list of the core categories on Data Science:\n",
    "\n",
    ". Data Management\n",
    "\n",
    ". Data Integration and Transformation\n",
    "\n",
    ". Visualisation\n",
    "\n",
    ". Model Building\n",
    "\n",
    ". Model Deployment\n",
    "\n",
    ". Model Monitoring and Assessment\n",
    "\n",
    "**Execution Environment**\n",
    "This is determined by the size of data. In a situation where the data is extremely large, a cluster execution environment is required e.g\n",
    "\n",
    ". Apache Spark - For batch processing and processing huge amounts of data file by file\n",
    "\n",
    ". Apache Flink - Stream processing image and real-time data streams\n",
    "\n",
    "\n",
    "**Data Asset Management**\n",
    "This is a platform for organising and managing data. They also support replication, backup and access right management.\n",
    "\n",
    "**Code Asset Managemtn**\n",
    "A unified view where you manage an inventory of assets. Using version control to track modifications eg GitHub\n",
    "\n",
    "**Development Environement**\n",
    "Integrated Development Environment **(IDE)** provides a workspace and tools to work on source codes to:\n",
    "\n",
    "Develop - Implement - Execute - Test - Deploy\n",
    "\n",
    "| Popular Languages used in data Sceince|\n",
    "|--------|\n",
    "|Python|\n",
    "|Julia|\n",
    "|Sacala|\n",
    "|R|\n",
    "|Hadoop|"
   ]
  },
  {
   "cell_type": "markdown",
   "id": "1c4dffc4-e08e-4540-859c-b775ef1902ce",
   "metadata": {},
   "source": [
    "## Author: Joshua Aizebeokhai"
   ]
  },
  {
   "cell_type": "code",
   "execution_count": null,
   "id": "ff057321-0db7-42cb-ab2f-bb9cab1eeb43",
   "metadata": {},
   "outputs": [],
   "source": []
  }
 ],
 "metadata": {
  "kernelspec": {
   "display_name": "Python 3 (ipykernel)",
   "language": "python",
   "name": "python3"
  },
  "language_info": {
   "codemirror_mode": {
    "name": "ipython",
    "version": 3
   },
   "file_extension": ".py",
   "mimetype": "text/x-python",
   "name": "python",
   "nbconvert_exporter": "python",
   "pygments_lexer": "ipython3",
   "version": "3.11.4"
  }
 },
 "nbformat": 4,
 "nbformat_minor": 5
}
